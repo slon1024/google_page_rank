{
 "metadata": {
  "name": "",
  "signature": "sha256:34be21faf6123d0ffc6586677f48635a7daef30ca29e3c506c5ef0719c0f400d"
 },
 "nbformat": 3,
 "nbformat_minor": 0,
 "worksheets": [
  {
   "cells": [
    {
     "cell_type": "code",
     "collapsed": false,
     "input": [
      "import numpy as np"
     ],
     "language": "python",
     "metadata": {},
     "outputs": [],
     "prompt_number": 1
    },
    {
     "cell_type": "code",
     "collapsed": false,
     "input": [
      "def page_rank(A, r, epsilon=1e-10):\n",
      "    for i in range(1000):\n",
      "        r_new = A.dot(r)\n",
      "        if all([e[0] <= epsilon for e in (r - r_new)]): return r_new\n",
      "        r = r_new\n",
      "        \n",
      "    return -1"
     ],
     "language": "python",
     "metadata": {},
     "outputs": []
    },
    {
     "cell_type": "code",
     "collapsed": false,
     "input": [
      "def prepare_A_r(M, beta):\n",
      "    n = M.shape[0]\n",
      "    e = np.ones((n, n)) * (1.0/n)\n",
      "    A = beta * M + (1 - beta) * e\n",
      "    r = np.ones((1, 3)).T * (1.0/n)\n",
      "    \n",
      "    return A, r"
     ],
     "language": "python",
     "metadata": {},
     "outputs": [],
     "prompt_number": 131
    },
    {
     "cell_type": "code",
     "collapsed": false,
     "input": [
      "M = np.array([\n",
      "    [1.0/2, 1.0/2, 0],\n",
      "    [1.0/2, 0,     0],\n",
      "    [0,     1.0/2, 1.0],\n",
      "])\n",
      "beta = 0.8"
     ],
     "language": "python",
     "metadata": {},
     "outputs": [],
     "prompt_number": 132
    },
    {
     "cell_type": "code",
     "collapsed": false,
     "input": [
      "page_rank(*prepare_A_r(M, beta))"
     ],
     "language": "python",
     "metadata": {},
     "outputs": [
      {
       "metadata": {},
       "output_type": "pyout",
       "prompt_number": 133,
       "text": [
        "array([[ 0.21212121],\n",
        "       [ 0.15151515],\n",
        "       [ 0.63636364]])"
       ]
      }
     ],
     "prompt_number": 133
    }
   ],
   "metadata": {}
  }
 ]
}